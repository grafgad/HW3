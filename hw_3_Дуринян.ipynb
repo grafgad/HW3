{
 "cells": [
  {
   "cell_type": "markdown",
   "metadata": {},
   "source": [
    "Вам нужно проанализировать биоинформатический датасет (ссылка на скачивание) по пространственной транскриптомике (дополнительная информация по теме) пациентов с плоскоклеточным раком. В нем клетки (колонка cell_type) объединены в микроокружения (колонка cell_interaction) в зависимости от взаимодействия этих клеток. Вашей основной задачей будет поиск отличий в организации микроокружения у пожилых и молодых пациентов (колонка age_group).\n",
    "\n",
    "Также в датасете есть следующие колонки:\n",
    "\n",
    "distance_to_vasculature — расстояние до ближайших сосудов;\n",
    "\n",
    "distance_to_largest_cell — расстояние до ближайшей крупной клетки;\n",
    "\n",
    "immune_marker_1 — экспрессия иммунного маркера 1 в данной клетке;\n",
    "\n",
    "immune_marker_2 — экспрессия иммунного маркера 2 в данной клетке;\n",
    "\n",
    "cell_type — тип клетки;\n",
    "\n",
    "area_of_cell — размер клетки;\n",
    "\n",
    "case_id — уникальный ID пациента."
   ]
  },
  {
   "cell_type": "code",
   "execution_count": 3,
   "metadata": {},
   "outputs": [],
   "source": [
    "# Загрузим библиотеки\n",
    "\n",
    "import pandas as pd\n",
    "import numpy as np\n",
    "import matplotlib.pyplot as plt\n",
    "import seaborn as sns\n",
    "from scipy.stats import shapiro\n",
    "from scipy.stats import levene\n",
    "from scipy.stats import mannwhitneyu\n",
    "from scipy.stats import kruskal\n",
    "from statannot import add_stat_annotation\n",
    "from scipy import stats\n",
    "from scipy.stats import ttest_ind\n",
    "from scipy.stats import bootstrap\n",
    "from scipy.stats import spearmanr"
   ]
  },
  {
   "cell_type": "code",
   "execution_count": 4,
   "metadata": {},
   "outputs": [],
   "source": [
    "# Подготовка датасета\n",
    "\n",
    "dataset = pd.read_csv('asset-v1_SkillFactory+MFTIBIO+SEP2023+type@asset+block@community_dataset.csv')\n"
   ]
  },
  {
   "cell_type": "code",
   "execution_count": 5,
   "metadata": {},
   "outputs": [
    {
     "data": {
      "text/html": [
       "<div>\n",
       "<style scoped>\n",
       "    .dataframe tbody tr th:only-of-type {\n",
       "        vertical-align: middle;\n",
       "    }\n",
       "\n",
       "    .dataframe tbody tr th {\n",
       "        vertical-align: top;\n",
       "    }\n",
       "\n",
       "    .dataframe thead th {\n",
       "        text-align: right;\n",
       "    }\n",
       "</style>\n",
       "<table border=\"1\" class=\"dataframe\">\n",
       "  <thead>\n",
       "    <tr style=\"text-align: right;\">\n",
       "      <th></th>\n",
       "      <th>distance_to_vasculature</th>\n",
       "      <th>distance_to_largest_cell</th>\n",
       "      <th>immune_marker_1</th>\n",
       "      <th>immune_marker_2</th>\n",
       "      <th>cell_interaction</th>\n",
       "      <th>cell_type</th>\n",
       "      <th>case_id</th>\n",
       "      <th>area_of_cell</th>\n",
       "      <th>age_group</th>\n",
       "    </tr>\n",
       "  </thead>\n",
       "  <tbody>\n",
       "    <tr>\n",
       "      <th>0</th>\n",
       "      <td>988.509380</td>\n",
       "      <td>612.076506</td>\n",
       "      <td>10.803755</td>\n",
       "      <td>187.998971</td>\n",
       "      <td>community_1</td>\n",
       "      <td>Stroma cells</td>\n",
       "      <td>891.0</td>\n",
       "      <td>185.0</td>\n",
       "      <td>elder_group</td>\n",
       "    </tr>\n",
       "    <tr>\n",
       "      <th>1</th>\n",
       "      <td>787.852379</td>\n",
       "      <td>637.787202</td>\n",
       "      <td>11.749179</td>\n",
       "      <td>155.357076</td>\n",
       "      <td>community_1</td>\n",
       "      <td>Stroma cells</td>\n",
       "      <td>891.0</td>\n",
       "      <td>209.0</td>\n",
       "      <td>elder_group</td>\n",
       "    </tr>\n",
       "    <tr>\n",
       "      <th>2</th>\n",
       "      <td>960.635580</td>\n",
       "      <td>700.283468</td>\n",
       "      <td>15.124372</td>\n",
       "      <td>182.626888</td>\n",
       "      <td>community_2</td>\n",
       "      <td>Stroma cells</td>\n",
       "      <td>891.0</td>\n",
       "      <td>254.0</td>\n",
       "      <td>elder_group</td>\n",
       "    </tr>\n",
       "    <tr>\n",
       "      <th>3</th>\n",
       "      <td>702.033032</td>\n",
       "      <td>676.409695</td>\n",
       "      <td>14.221883</td>\n",
       "      <td>158.381917</td>\n",
       "      <td>community_3</td>\n",
       "      <td>Unclassified</td>\n",
       "      <td>891.0</td>\n",
       "      <td>156.0</td>\n",
       "      <td>elder_group</td>\n",
       "    </tr>\n",
       "    <tr>\n",
       "      <th>4</th>\n",
       "      <td>830.399371</td>\n",
       "      <td>863.269930</td>\n",
       "      <td>19.978977</td>\n",
       "      <td>159.071269</td>\n",
       "      <td>community_3</td>\n",
       "      <td>Unclassified</td>\n",
       "      <td>891.0</td>\n",
       "      <td>194.0</td>\n",
       "      <td>elder_group</td>\n",
       "    </tr>\n",
       "  </tbody>\n",
       "</table>\n",
       "</div>"
      ],
      "text/plain": [
       "   distance_to_vasculature  distance_to_largest_cell  immune_marker_1  \\\n",
       "0               988.509380                612.076506        10.803755   \n",
       "1               787.852379                637.787202        11.749179   \n",
       "2               960.635580                700.283468        15.124372   \n",
       "3               702.033032                676.409695        14.221883   \n",
       "4               830.399371                863.269930        19.978977   \n",
       "\n",
       "   immune_marker_2 cell_interaction     cell_type  case_id  area_of_cell  \\\n",
       "0       187.998971      community_1  Stroma cells    891.0         185.0   \n",
       "1       155.357076      community_1  Stroma cells    891.0         209.0   \n",
       "2       182.626888      community_2  Stroma cells    891.0         254.0   \n",
       "3       158.381917      community_3  Unclassified    891.0         156.0   \n",
       "4       159.071269      community_3  Unclassified    891.0         194.0   \n",
       "\n",
       "     age_group  \n",
       "0  elder_group  \n",
       "1  elder_group  \n",
       "2  elder_group  \n",
       "3  elder_group  \n",
       "4  elder_group  "
      ]
     },
     "execution_count": 5,
     "metadata": {},
     "output_type": "execute_result"
    }
   ],
   "source": [
    "dataset.head()"
   ]
  },
  {
   "cell_type": "code",
   "execution_count": 6,
   "metadata": {},
   "outputs": [
    {
     "name": "stdout",
     "output_type": "stream",
     "text": [
      "<class 'pandas.core.frame.DataFrame'>\n",
      "RangeIndex: 126474 entries, 0 to 126473\n",
      "Data columns (total 9 columns):\n",
      " #   Column                    Non-Null Count   Dtype  \n",
      "---  ------                    --------------   -----  \n",
      " 0   distance_to_vasculature   126474 non-null  float64\n",
      " 1   distance_to_largest_cell  126474 non-null  float64\n",
      " 2   immune_marker_1           126474 non-null  float64\n",
      " 3   immune_marker_2           126474 non-null  float64\n",
      " 4   cell_interaction          126474 non-null  object \n",
      " 5   cell_type                 126473 non-null  object \n",
      " 6   case_id                   126473 non-null  float64\n",
      " 7   area_of_cell              126473 non-null  float64\n",
      " 8   age_group                 126473 non-null  object \n",
      "dtypes: float64(6), object(3)\n",
      "memory usage: 8.7+ MB\n"
     ]
    }
   ],
   "source": [
    "dataset.info()"
   ]
  },
  {
   "cell_type": "code",
   "execution_count": 7,
   "metadata": {},
   "outputs": [
    {
     "data": {
      "text/plain": [
       "distance_to_vasculature     0\n",
       "distance_to_largest_cell    0\n",
       "immune_marker_1             0\n",
       "immune_marker_2             0\n",
       "cell_interaction            0\n",
       "cell_type                   1\n",
       "case_id                     1\n",
       "area_of_cell                1\n",
       "age_group                   1\n",
       "dtype: int64"
      ]
     },
     "execution_count": 7,
     "metadata": {},
     "output_type": "execute_result"
    }
   ],
   "source": [
    "dataset.isnull().sum()"
   ]
  },
  {
   "cell_type": "code",
   "execution_count": 8,
   "metadata": {},
   "outputs": [
    {
     "data": {
      "text/plain": [
       "0         False\n",
       "1         False\n",
       "2         False\n",
       "3         False\n",
       "4         False\n",
       "          ...  \n",
       "126469    False\n",
       "126470    False\n",
       "126471    False\n",
       "126472    False\n",
       "126473     True\n",
       "Name: case_id, Length: 126474, dtype: bool"
      ]
     },
     "execution_count": 8,
     "metadata": {},
     "output_type": "execute_result"
    }
   ],
   "source": [
    "dataset['case_id'].isnull()"
   ]
  },
  {
   "cell_type": "markdown",
   "metadata": {},
   "source": [
    "В датасете есть пропуски."
   ]
  },
  {
   "cell_type": "code",
   "execution_count": 9,
   "metadata": {},
   "outputs": [
    {
     "name": "stdout",
     "output_type": "stream",
     "text": [
      "distance_to_vasculature      983.369885\n",
      "distance_to_largest_cell     692.159612\n",
      "immune_marker_1               28.080539\n",
      "immune_marker_2              151.589357\n",
      "cell_interaction            community_4\n",
      "cell_type                           NaN\n",
      "case_id                             NaN\n",
      "area_of_cell                        NaN\n",
      "age_group                           NaN\n",
      "Name: 126473, dtype: object\n"
     ]
    }
   ],
   "source": [
    "print(dataset.iloc[126473])"
   ]
  },
  {
   "cell_type": "markdown",
   "metadata": {},
   "source": [
    "Последняя строка заполнена частично."
   ]
  },
  {
   "cell_type": "code",
   "execution_count": 10,
   "metadata": {},
   "outputs": [],
   "source": [
    "# Удаляем последнюю строку\n",
    "dataset=dataset.drop(dataset.index[126473])"
   ]
  },
  {
   "cell_type": "code",
   "execution_count": 11,
   "metadata": {},
   "outputs": [
    {
     "data": {
      "text/plain": [
       "distance_to_vasculature     0\n",
       "distance_to_largest_cell    0\n",
       "immune_marker_1             0\n",
       "immune_marker_2             0\n",
       "cell_interaction            0\n",
       "cell_type                   0\n",
       "case_id                     0\n",
       "area_of_cell                0\n",
       "age_group                   0\n",
       "dtype: int64"
      ]
     },
     "execution_count": 11,
     "metadata": {},
     "output_type": "execute_result"
    }
   ],
   "source": [
    "dataset.isnull().sum()"
   ]
  },
  {
   "cell_type": "code",
   "execution_count": 12,
   "metadata": {},
   "outputs": [
    {
     "data": {
      "text/plain": [
       "False"
      ]
     },
     "execution_count": 12,
     "metadata": {},
     "output_type": "execute_result"
    }
   ],
   "source": [
    "# Проверка на дубликаты\n",
    "dataset.duplicated().any()"
   ]
  },
  {
   "cell_type": "code",
   "execution_count": 160,
   "metadata": {},
   "outputs": [
    {
     "data": {
      "text/html": [
       "<div>\n",
       "<style scoped>\n",
       "    .dataframe tbody tr th:only-of-type {\n",
       "        vertical-align: middle;\n",
       "    }\n",
       "\n",
       "    .dataframe tbody tr th {\n",
       "        vertical-align: top;\n",
       "    }\n",
       "\n",
       "    .dataframe thead th {\n",
       "        text-align: right;\n",
       "    }\n",
       "</style>\n",
       "<table border=\"1\" class=\"dataframe\">\n",
       "  <thead>\n",
       "    <tr style=\"text-align: right;\">\n",
       "      <th></th>\n",
       "      <th>distance_to_vasculature</th>\n",
       "      <th>distance_to_largest_cell</th>\n",
       "      <th>immune_marker_1</th>\n",
       "      <th>immune_marker_2</th>\n",
       "      <th>case_id</th>\n",
       "      <th>area_of_cell</th>\n",
       "    </tr>\n",
       "  </thead>\n",
       "  <tbody>\n",
       "    <tr>\n",
       "      <th>count</th>\n",
       "      <td>126473.000000</td>\n",
       "      <td>126473.000000</td>\n",
       "      <td>126473.000000</td>\n",
       "      <td>126473.000000</td>\n",
       "      <td>126473.000000</td>\n",
       "      <td>126473.000000</td>\n",
       "    </tr>\n",
       "    <tr>\n",
       "      <th>mean</th>\n",
       "      <td>928.738260</td>\n",
       "      <td>763.818859</td>\n",
       "      <td>20.199625</td>\n",
       "      <td>77.693380</td>\n",
       "      <td>535.593961</td>\n",
       "      <td>252.513295</td>\n",
       "    </tr>\n",
       "    <tr>\n",
       "      <th>std</th>\n",
       "      <td>232.505721</td>\n",
       "      <td>143.782977</td>\n",
       "      <td>8.895994</td>\n",
       "      <td>62.432115</td>\n",
       "      <td>340.024171</td>\n",
       "      <td>156.473940</td>\n",
       "    </tr>\n",
       "    <tr>\n",
       "      <th>min</th>\n",
       "      <td>576.003599</td>\n",
       "      <td>576.000505</td>\n",
       "      <td>0.022423</td>\n",
       "      <td>0.078416</td>\n",
       "      <td>40.000000</td>\n",
       "      <td>52.000000</td>\n",
       "    </tr>\n",
       "    <tr>\n",
       "      <th>25%</th>\n",
       "      <td>748.249636</td>\n",
       "      <td>666.300991</td>\n",
       "      <td>14.074053</td>\n",
       "      <td>32.202712</td>\n",
       "      <td>199.000000</td>\n",
       "      <td>180.000000</td>\n",
       "    </tr>\n",
       "    <tr>\n",
       "      <th>50%</th>\n",
       "      <td>888.373046</td>\n",
       "      <td>731.617873</td>\n",
       "      <td>19.181260</td>\n",
       "      <td>53.401991</td>\n",
       "      <td>693.000000</td>\n",
       "      <td>229.000000</td>\n",
       "    </tr>\n",
       "    <tr>\n",
       "      <th>75%</th>\n",
       "      <td>1067.789887</td>\n",
       "      <td>822.036289</td>\n",
       "      <td>24.958793</td>\n",
       "      <td>114.898690</td>\n",
       "      <td>708.000000</td>\n",
       "      <td>295.000000</td>\n",
       "    </tr>\n",
       "    <tr>\n",
       "      <th>max</th>\n",
       "      <td>2057.201309</td>\n",
       "      <td>3167.356219</td>\n",
       "      <td>110.072007</td>\n",
       "      <td>1231.730994</td>\n",
       "      <td>983.000000</td>\n",
       "      <td>6807.000000</td>\n",
       "    </tr>\n",
       "  </tbody>\n",
       "</table>\n",
       "</div>"
      ],
      "text/plain": [
       "       distance_to_vasculature  distance_to_largest_cell  immune_marker_1  \\\n",
       "count            126473.000000             126473.000000    126473.000000   \n",
       "mean                928.738260                763.818859        20.199625   \n",
       "std                 232.505721                143.782977         8.895994   \n",
       "min                 576.003599                576.000505         0.022423   \n",
       "25%                 748.249636                666.300991        14.074053   \n",
       "50%                 888.373046                731.617873        19.181260   \n",
       "75%                1067.789887                822.036289        24.958793   \n",
       "max                2057.201309               3167.356219       110.072007   \n",
       "\n",
       "       immune_marker_2        case_id   area_of_cell  \n",
       "count    126473.000000  126473.000000  126473.000000  \n",
       "mean         77.693380     535.593961     252.513295  \n",
       "std          62.432115     340.024171     156.473940  \n",
       "min           0.078416      40.000000      52.000000  \n",
       "25%          32.202712     199.000000     180.000000  \n",
       "50%          53.401991     693.000000     229.000000  \n",
       "75%         114.898690     708.000000     295.000000  \n",
       "max        1231.730994     983.000000    6807.000000  "
      ]
     },
     "execution_count": 160,
     "metadata": {},
     "output_type": "execute_result"
    }
   ],
   "source": [
    "# Статистика по  столбцам\n",
    "dataset.describe()"
   ]
  },
  {
   "cell_type": "code",
   "execution_count": 13,
   "metadata": {},
   "outputs": [
    {
     "data": {
      "text/html": [
       "<div>\n",
       "<style scoped>\n",
       "    .dataframe tbody tr th:only-of-type {\n",
       "        vertical-align: middle;\n",
       "    }\n",
       "\n",
       "    .dataframe tbody tr th {\n",
       "        vertical-align: top;\n",
       "    }\n",
       "\n",
       "    .dataframe thead th {\n",
       "        text-align: right;\n",
       "    }\n",
       "</style>\n",
       "<table border=\"1\" class=\"dataframe\">\n",
       "  <thead>\n",
       "    <tr style=\"text-align: right;\">\n",
       "      <th></th>\n",
       "      <th>cell_interaction</th>\n",
       "      <th>cell_type</th>\n",
       "      <th>age_group</th>\n",
       "    </tr>\n",
       "  </thead>\n",
       "  <tbody>\n",
       "    <tr>\n",
       "      <th>count</th>\n",
       "      <td>126473</td>\n",
       "      <td>126473</td>\n",
       "      <td>126473</td>\n",
       "    </tr>\n",
       "    <tr>\n",
       "      <th>unique</th>\n",
       "      <td>6</td>\n",
       "      <td>8</td>\n",
       "      <td>2</td>\n",
       "    </tr>\n",
       "    <tr>\n",
       "      <th>top</th>\n",
       "      <td>community_4</td>\n",
       "      <td>Stroma cells</td>\n",
       "      <td>young_group</td>\n",
       "    </tr>\n",
       "    <tr>\n",
       "      <th>freq</th>\n",
       "      <td>37405</td>\n",
       "      <td>80840</td>\n",
       "      <td>87644</td>\n",
       "    </tr>\n",
       "  </tbody>\n",
       "</table>\n",
       "</div>"
      ],
      "text/plain": [
       "       cell_interaction     cell_type    age_group\n",
       "count            126473        126473       126473\n",
       "unique                6             8            2\n",
       "top         community_4  Stroma cells  young_group\n",
       "freq              37405         80840        87644"
      ]
     },
     "execution_count": 13,
     "metadata": {},
     "output_type": "execute_result"
    }
   ],
   "source": [
    "# Статистика по категориальным столбцам\n",
    "# data.describe(exclude=['float64'])\n",
    "dataset.describe(include=['object'])"
   ]
  },
  {
   "cell_type": "code",
   "execution_count": 14,
   "metadata": {},
   "outputs": [
    {
     "data": {
      "text/plain": [
       "cell_interaction\n",
       "community_4    37405\n",
       "community_2    24108\n",
       "community_1    22842\n",
       "community_5    16564\n",
       "community_6    12840\n",
       "community_3    12714\n",
       "Name: count, dtype: int64"
      ]
     },
     "execution_count": 14,
     "metadata": {},
     "output_type": "execute_result"
    }
   ],
   "source": [
    "dataset['cell_interaction'].value_counts()"
   ]
  },
  {
   "cell_type": "code",
   "execution_count": 15,
   "metadata": {},
   "outputs": [],
   "source": [
    "# Добавим числовой столбец cell_interaction_digit\n",
    "dataset['cell_interaction_digit'] = dataset['cell_interaction'].map({\n",
    "    'community_4': 4,\n",
    "    'community_2': 2,\n",
    "    'community_1': 1,\n",
    "    'community_5': 5,\n",
    "    'community_6': 6,\n",
    "    'community_3': 3\n",
    "})"
   ]
  },
  {
   "cell_type": "code",
   "execution_count": 16,
   "metadata": {},
   "outputs": [
    {
     "data": {
      "text/plain": [
       "cell_interaction_digit\n",
       "4    37405\n",
       "2    24108\n",
       "1    22842\n",
       "5    16564\n",
       "6    12840\n",
       "3    12714\n",
       "Name: count, dtype: int64"
      ]
     },
     "execution_count": 16,
     "metadata": {},
     "output_type": "execute_result"
    }
   ],
   "source": [
    "dataset['cell_interaction_digit'].value_counts()"
   ]
  },
  {
   "cell_type": "code",
   "execution_count": 17,
   "metadata": {},
   "outputs": [
    {
     "data": {
      "text/plain": [
       "cell_type\n",
       "Stroma cells     80840\n",
       "Unclassified     31772\n",
       "Immune type 2     7676\n",
       "Immune type 1     2636\n",
       "Blood cells       1342\n",
       "Bone cells        1235\n",
       "Largest cells      902\n",
       "Vasculature         70\n",
       "Name: count, dtype: int64"
      ]
     },
     "execution_count": 17,
     "metadata": {},
     "output_type": "execute_result"
    }
   ],
   "source": [
    "dataset['cell_type'].value_counts()"
   ]
  },
  {
   "cell_type": "code",
   "execution_count": 18,
   "metadata": {},
   "outputs": [
    {
     "data": {
      "text/plain": [
       "age_group\n",
       "young_group    87644\n",
       "elder_group    38829\n",
       "Name: count, dtype: int64"
      ]
     },
     "execution_count": 18,
     "metadata": {},
     "output_type": "execute_result"
    }
   ],
   "source": [
    "dataset['age_group'].value_counts()"
   ]
  },
  {
   "cell_type": "code",
   "execution_count": 21,
   "metadata": {},
   "outputs": [],
   "source": [
    "dataset['age_group'] = dataset['age_group'].map({\n",
    "    'young_group': 0,\n",
    "    'elder_group': 1\n",
    "})"
   ]
  },
  {
   "cell_type": "code",
   "execution_count": 22,
   "metadata": {},
   "outputs": [
    {
     "data": {
      "text/html": [
       "<div>\n",
       "<style scoped>\n",
       "    .dataframe tbody tr th:only-of-type {\n",
       "        vertical-align: middle;\n",
       "    }\n",
       "\n",
       "    .dataframe tbody tr th {\n",
       "        vertical-align: top;\n",
       "    }\n",
       "\n",
       "    .dataframe thead th {\n",
       "        text-align: right;\n",
       "    }\n",
       "</style>\n",
       "<table border=\"1\" class=\"dataframe\">\n",
       "  <thead>\n",
       "    <tr style=\"text-align: right;\">\n",
       "      <th></th>\n",
       "      <th>distance_to_vasculature</th>\n",
       "      <th>distance_to_largest_cell</th>\n",
       "      <th>immune_marker_1</th>\n",
       "      <th>immune_marker_2</th>\n",
       "      <th>case_id</th>\n",
       "      <th>area_of_cell</th>\n",
       "      <th>age_group</th>\n",
       "      <th>cell_interaction_digit</th>\n",
       "    </tr>\n",
       "  </thead>\n",
       "  <tbody>\n",
       "    <tr>\n",
       "      <th>count</th>\n",
       "      <td>126473.000000</td>\n",
       "      <td>126473.000000</td>\n",
       "      <td>126473.000000</td>\n",
       "      <td>126473.000000</td>\n",
       "      <td>126473.000000</td>\n",
       "      <td>126473.000000</td>\n",
       "      <td>126473.000000</td>\n",
       "      <td>126473.000000</td>\n",
       "    </tr>\n",
       "    <tr>\n",
       "      <th>mean</th>\n",
       "      <td>928.738260</td>\n",
       "      <td>763.818859</td>\n",
       "      <td>20.199625</td>\n",
       "      <td>77.693380</td>\n",
       "      <td>535.593961</td>\n",
       "      <td>252.513295</td>\n",
       "      <td>0.307014</td>\n",
       "      <td>3.310430</td>\n",
       "    </tr>\n",
       "    <tr>\n",
       "      <th>std</th>\n",
       "      <td>232.505721</td>\n",
       "      <td>143.782977</td>\n",
       "      <td>8.895994</td>\n",
       "      <td>62.432115</td>\n",
       "      <td>340.024171</td>\n",
       "      <td>156.473940</td>\n",
       "      <td>0.461257</td>\n",
       "      <td>1.596886</td>\n",
       "    </tr>\n",
       "    <tr>\n",
       "      <th>min</th>\n",
       "      <td>576.003599</td>\n",
       "      <td>576.000505</td>\n",
       "      <td>0.022423</td>\n",
       "      <td>0.078416</td>\n",
       "      <td>40.000000</td>\n",
       "      <td>52.000000</td>\n",
       "      <td>0.000000</td>\n",
       "      <td>1.000000</td>\n",
       "    </tr>\n",
       "    <tr>\n",
       "      <th>25%</th>\n",
       "      <td>748.249636</td>\n",
       "      <td>666.300991</td>\n",
       "      <td>14.074053</td>\n",
       "      <td>32.202712</td>\n",
       "      <td>199.000000</td>\n",
       "      <td>180.000000</td>\n",
       "      <td>0.000000</td>\n",
       "      <td>2.000000</td>\n",
       "    </tr>\n",
       "    <tr>\n",
       "      <th>50%</th>\n",
       "      <td>888.373046</td>\n",
       "      <td>731.617873</td>\n",
       "      <td>19.181260</td>\n",
       "      <td>53.401991</td>\n",
       "      <td>693.000000</td>\n",
       "      <td>229.000000</td>\n",
       "      <td>0.000000</td>\n",
       "      <td>4.000000</td>\n",
       "    </tr>\n",
       "    <tr>\n",
       "      <th>75%</th>\n",
       "      <td>1067.789887</td>\n",
       "      <td>822.036289</td>\n",
       "      <td>24.958793</td>\n",
       "      <td>114.898690</td>\n",
       "      <td>708.000000</td>\n",
       "      <td>295.000000</td>\n",
       "      <td>1.000000</td>\n",
       "      <td>4.000000</td>\n",
       "    </tr>\n",
       "    <tr>\n",
       "      <th>max</th>\n",
       "      <td>2057.201309</td>\n",
       "      <td>3167.356219</td>\n",
       "      <td>110.072007</td>\n",
       "      <td>1231.730994</td>\n",
       "      <td>983.000000</td>\n",
       "      <td>6807.000000</td>\n",
       "      <td>1.000000</td>\n",
       "      <td>6.000000</td>\n",
       "    </tr>\n",
       "  </tbody>\n",
       "</table>\n",
       "</div>"
      ],
      "text/plain": [
       "       distance_to_vasculature  distance_to_largest_cell  immune_marker_1  \\\n",
       "count            126473.000000             126473.000000    126473.000000   \n",
       "mean                928.738260                763.818859        20.199625   \n",
       "std                 232.505721                143.782977         8.895994   \n",
       "min                 576.003599                576.000505         0.022423   \n",
       "25%                 748.249636                666.300991        14.074053   \n",
       "50%                 888.373046                731.617873        19.181260   \n",
       "75%                1067.789887                822.036289        24.958793   \n",
       "max                2057.201309               3167.356219       110.072007   \n",
       "\n",
       "       immune_marker_2        case_id   area_of_cell      age_group  \\\n",
       "count    126473.000000  126473.000000  126473.000000  126473.000000   \n",
       "mean         77.693380     535.593961     252.513295       0.307014   \n",
       "std          62.432115     340.024171     156.473940       0.461257   \n",
       "min           0.078416      40.000000      52.000000       0.000000   \n",
       "25%          32.202712     199.000000     180.000000       0.000000   \n",
       "50%          53.401991     693.000000     229.000000       0.000000   \n",
       "75%         114.898690     708.000000     295.000000       1.000000   \n",
       "max        1231.730994     983.000000    6807.000000       1.000000   \n",
       "\n",
       "       cell_interaction_digit  \n",
       "count           126473.000000  \n",
       "mean                 3.310430  \n",
       "std                  1.596886  \n",
       "min                  1.000000  \n",
       "25%                  2.000000  \n",
       "50%                  4.000000  \n",
       "75%                  4.000000  \n",
       "max                  6.000000  "
      ]
     },
     "execution_count": 22,
     "metadata": {},
     "output_type": "execute_result"
    }
   ],
   "source": [
    "dataset.describe()"
   ]
  },
  {
   "cell_type": "markdown",
   "metadata": {},
   "source": [
    "Датасет готов к работе"
   ]
  },
  {
   "cell_type": "markdown",
   "metadata": {},
   "source": [
    "### Задачи"
   ]
  },
  {
   "cell_type": "markdown",
   "metadata": {},
   "source": [
    "#### 1) Есть ли стат-значимость между типом клетки и:\n",
    "\n",
    "а) Размером клетки (area_of_cell), добавьте hue по возрастным группам.\n",
    "\n",
    "б) Экспрессией иммунных маркеров (immune_marker_1, immune_marker_2), добавьте hue по возрастным группам.\n",
    "\n",
    "в) Дистанцией до ближайших объектов (distance_to_vasculature, distance_to_largest_cell), добавьте hue по возрастным группам.\n",
    "\n",
    "В качестве ответов можно приводить box_plot/swarplot, где по одной оси будет тип клеток, а по другой — оцениваемая вами статистика."
   ]
  },
  {
   "cell_type": "code",
   "execution_count": 23,
   "metadata": {},
   "outputs": [],
   "source": [
    "data1 = dataset.copy()\n",
    "test_param = 'area_of_cell'"
   ]
  },
  {
   "cell_type": "code",
   "execution_count": 24,
   "metadata": {},
   "outputs": [
    {
     "data": {
      "image/png": "[encoded data removed]",
      "text/plain": [
       "<Figure size 640x480 with 1 Axes>"
      ]
     },
     "metadata": {},
     "output_type": "display_data"
    }
   ],
   "source": [
    "sns.boxplot(\n",
    "    data= data1,\n",
    "    x= 'cell_type',\n",
    "    y= 'area_of_cell',\n",
    "    hue= 'age_group',\n",
    "    showfliers= False\n",
    ")\n",
    "\n",
    "plt.title('Стат значимость между типом, рамером клетки и возрастной группой')\n",
    "plt.xlabel('Тип клетки')\n",
    "plt.ylabel('Размер клетки')\n",
    "plt.legend(title='Возрастная группа')\n",
    "plt.xticks(rotation=90)\n",
    "plt.tight_layout()\n",
    "plt.show()"
   ]
  },
  {
   "cell_type": "markdown",
   "metadata": {},
   "source": [
    "У молодых пациентов размер клеток больше по сравнению с возрастными."
   ]
  },
  {
   "cell_type": "code",
   "execution_count": 25,
   "metadata": {},
   "outputs": [
    {
     "data": {
      "text/html": [
       "<div>\n",
       "<style scoped>\n",
       "    .dataframe tbody tr th:only-of-type {\n",
       "        vertical-align: middle;\n",
       "    }\n",
       "\n",
       "    .dataframe tbody tr th {\n",
       "        vertical-align: top;\n",
       "    }\n",
       "\n",
       "    .dataframe thead th {\n",
       "        text-align: right;\n",
       "    }\n",
       "</style>\n",
       "<table border=\"1\" class=\"dataframe\">\n",
       "  <thead>\n",
       "    <tr style=\"text-align: right;\">\n",
       "      <th></th>\n",
       "      <th>area_of_cell</th>\n",
       "      <th>cell_type</th>\n",
       "    </tr>\n",
       "  </thead>\n",
       "  <tbody>\n",
       "    <tr>\n",
       "      <th>315</th>\n",
       "      <td>261.0</td>\n",
       "      <td>Stroma cells</td>\n",
       "    </tr>\n",
       "    <tr>\n",
       "      <th>316</th>\n",
       "      <td>142.0</td>\n",
       "      <td>Immune type 2</td>\n",
       "    </tr>\n",
       "    <tr>\n",
       "      <th>317</th>\n",
       "      <td>344.0</td>\n",
       "      <td>Stroma cells</td>\n",
       "    </tr>\n",
       "    <tr>\n",
       "      <th>318</th>\n",
       "      <td>170.0</td>\n",
       "      <td>Stroma cells</td>\n",
       "    </tr>\n",
       "    <tr>\n",
       "      <th>319</th>\n",
       "      <td>224.0</td>\n",
       "      <td>Immune type 1</td>\n",
       "    </tr>\n",
       "  </tbody>\n",
       "</table>\n",
       "</div>"
      ],
      "text/plain": [
       "     area_of_cell      cell_type\n",
       "315         261.0   Stroma cells\n",
       "316         142.0  Immune type 2\n",
       "317         344.0   Stroma cells\n",
       "318         170.0   Stroma cells\n",
       "319         224.0  Immune type 1"
      ]
     },
     "execution_count": 25,
     "metadata": {},
     "output_type": "execute_result"
    }
   ],
   "source": [
    "sub_young = data1[ data1['age_group'] == 0][['area_of_cell', 'cell_type']]\n",
    "\n",
    "sub_young.head()"
   ]
  },
  {
   "cell_type": "code",
   "execution_count": 26,
   "metadata": {},
   "outputs": [
    {
     "data": {
      "text/html": [
       "<div>\n",
       "<style scoped>\n",
       "    .dataframe tbody tr th:only-of-type {\n",
       "        vertical-align: middle;\n",
       "    }\n",
       "\n",
       "    .dataframe tbody tr th {\n",
       "        vertical-align: top;\n",
       "    }\n",
       "\n",
       "    .dataframe thead th {\n",
       "        text-align: right;\n",
       "    }\n",
       "</style>\n",
       "<table border=\"1\" class=\"dataframe\">\n",
       "  <thead>\n",
       "    <tr style=\"text-align: right;\">\n",
       "      <th></th>\n",
       "      <th>area_of_cell</th>\n",
       "      <th>cell_type</th>\n",
       "    </tr>\n",
       "  </thead>\n",
       "  <tbody>\n",
       "    <tr>\n",
       "      <th>0</th>\n",
       "      <td>185.0</td>\n",
       "      <td>Stroma cells</td>\n",
       "    </tr>\n",
       "    <tr>\n",
       "      <th>1</th>\n",
       "      <td>209.0</td>\n",
       "      <td>Stroma cells</td>\n",
       "    </tr>\n",
       "    <tr>\n",
       "      <th>2</th>\n",
       "      <td>254.0</td>\n",
       "      <td>Stroma cells</td>\n",
       "    </tr>\n",
       "    <tr>\n",
       "      <th>3</th>\n",
       "      <td>156.0</td>\n",
       "      <td>Unclassified</td>\n",
       "    </tr>\n",
       "    <tr>\n",
       "      <th>4</th>\n",
       "      <td>194.0</td>\n",
       "      <td>Unclassified</td>\n",
       "    </tr>\n",
       "  </tbody>\n",
       "</table>\n",
       "</div>"
      ],
      "text/plain": [
       "   area_of_cell     cell_type\n",
       "0         185.0  Stroma cells\n",
       "1         209.0  Stroma cells\n",
       "2         254.0  Stroma cells\n",
       "3         156.0  Unclassified\n",
       "4         194.0  Unclassified"
      ]
     },
     "execution_count": 26,
     "metadata": {},
     "output_type": "execute_result"
    }
   ],
   "source": [
    "sub_elder = data1[ data1['age_group'] == 1][['area_of_cell', 'cell_type']]\n",
    "\n",
    "sub_elder.head()"
   ]
  },
  {
   "cell_type": "code",
   "execution_count": 27,
   "metadata": {},
   "outputs": [],
   "source": [
    "# Тест на нормальное распределение\n",
    "def normality_test(dataset, column, alpha=0.05):\n",
    "    lines = dataset['cell_type'].unique()   \n",
    "    H0 = 'Распределение {} нормальное'\n",
    "    H1 = 'Распределение {} отлично от нормального.'\n",
    "    for line in lines:\n",
    "        data = dataset[dataset['cell_type'] == line][column]\n",
    "        \n",
    "        __, p_value = shapiro(data)\n",
    "        if p_value < alpha:\n",
    "            print('Нулевая гипотеза отвергнута. {}'.format(H1.format(line)))\n",
    "        else:\n",
    "            print('Принята нулевая гипотеза: {}'.format(H0.format(line)))"
   ]
  },
  {
   "cell_type": "code",
   "execution_count": 28,
   "metadata": {},
   "outputs": [
    {
     "name": "stdout",
     "output_type": "stream",
     "text": [
      "Нулевая гипотеза отвергнута. Распределение Stroma cells отлично от нормального.\n",
      "Нулевая гипотеза отвергнута. Распределение Immune type 2 отлично от нормального.\n",
      "Нулевая гипотеза отвергнута. Распределение Immune type 1 отлично от нормального.\n",
      "Нулевая гипотеза отвергнута. Распределение Unclassified отлично от нормального.\n",
      "Нулевая гипотеза отвергнута. Распределение Largest cells отлично от нормального.\n",
      "Нулевая гипотеза отвергнута. Распределение Blood cells отлично от нормального.\n",
      "Нулевая гипотеза отвергнута. Распределение Bone cells отлично от нормального.\n",
      "Нулевая гипотеза отвергнута. Распределение Vasculature отлично от нормального.\n"
     ]
    },
    {
     "name": "stderr",
     "output_type": "stream",
     "text": [
      "C:\\Users\\GrafGAD\\AppData\\Roaming\\Python\\Python311\\site-packages\\scipy\\stats\\_morestats.py:1882: UserWarning: p-value may not be accurate for N > 5000.\n",
      "  warnings.warn(\"p-value may not be accurate for N > 5000.\")\n"
     ]
    }
   ],
   "source": [
    "normality_test(sub_young, test_param)"
   ]
  },
  {
   "cell_type": "code",
   "execution_count": 29,
   "metadata": {},
   "outputs": [
    {
     "name": "stdout",
     "output_type": "stream",
     "text": [
      "Нулевая гипотеза отвергнута. Распределение Stroma cells отлично от нормального.\n",
      "Нулевая гипотеза отвергнута. Распределение Unclassified отлично от нормального.\n",
      "Нулевая гипотеза отвергнута. Распределение Immune type 2 отлично от нормального.\n",
      "Нулевая гипотеза отвергнута. Распределение Blood cells отлично от нормального.\n",
      "Нулевая гипотеза отвергнута. Распределение Bone cells отлично от нормального.\n",
      "Нулевая гипотеза отвергнута. Распределение Largest cells отлично от нормального.\n",
      "Нулевая гипотеза отвергнута. Распределение Immune type 1 отлично от нормального.\n",
      "Нулевая гипотеза отвергнута. Распределение Vasculature отлично от нормального.\n"
     ]
    }
   ],
   "source": [
    "normality_test(sub_elder, test_param)"
   ]
  },
  {
   "cell_type": "markdown",
   "metadata": {},
   "source": [
    "Наши данные распределены не нормально."
   ]
  },
  {
   "cell_type": "code",
   "execution_count": 30,
   "metadata": {},
   "outputs": [],
   "source": [
    "# Тест на гомогенность\n",
    "        \n",
    "def homogeneity_test(dataset, column, alpha=0.05):\n",
    "    lines = dataset['cell_type'].unique()   \n",
    "    H0 = 'Распределение гомогенное.'\n",
    "    H1 = 'Распределение отлично от гомогенного.' \n",
    "    data = []\n",
    "    for line in lines:\n",
    "        data.append(dataset.loc[dataset['cell_type'] == line, column])\n",
    "        \n",
    "    __, p = levene(*data)\n",
    "    if p < alpha:\n",
    "        print('Нулевая гипотеза отвергнута. {}'.format(H1))\n",
    "    else:\n",
    "        print('Принята нулевая гипотеза: {}'.format(H0.format(line)))"
   ]
  },
  {
   "cell_type": "code",
   "execution_count": 31,
   "metadata": {},
   "outputs": [
    {
     "name": "stdout",
     "output_type": "stream",
     "text": [
      "Нулевая гипотеза отвергнута. Распределение отлично от гомогенного.\n"
     ]
    }
   ],
   "source": [
    "homogeneity_test(sub_young, test_param)"
   ]
  },
  {
   "cell_type": "code",
   "execution_count": 32,
   "metadata": {},
   "outputs": [
    {
     "name": "stdout",
     "output_type": "stream",
     "text": [
      "Нулевая гипотеза отвергнута. Распределение отлично от гомогенного.\n"
     ]
    }
   ],
   "source": [
    "homogeneity_test(sub_elder, test_param)"
   ]
  },
  {
   "cell_type": "code",
   "execution_count": 33,
   "metadata": {},
   "outputs": [
    {
     "name": "stdout",
     "output_type": "stream",
     "text": [
      "Размер молодой выборки: (87644, 2)\n",
      "Размер возрастной выборки: (38829, 2)\n"
     ]
    }
   ],
   "source": [
    "# Размеры выборок\n",
    "print('Размер молодой выборки: {}'.format(sub_young.shape))\n",
    "print('Размер возрастной выборки: {}'.format(sub_elder.shape))"
   ]
  },
  {
   "cell_type": "markdown",
   "metadata": {},
   "source": [
    "Выводы:\n",
    "\n",
    "Данные распределены ненормально и негомогенно.\n",
    "Выборки не связаны между собой.\n",
    "Размер выборки достаточный (молодые - 87644 и возрастные - 38829)\n",
    "Имеются выбросы.\n",
    "\n",
    "Таким образом, нужен непараметрический теста, малочувствительный к выбросам. Тест Краскула-Уолиса."
   ]
  },
  {
   "cell_type": "code",
   "execution_count": 34,
   "metadata": {},
   "outputs": [],
   "source": [
    "# Тест Краскула-Уолиса\n",
    "\n",
    "def kruskal_test(dataset, column, alpha=0.05):\n",
    "    lines = dataset['cell_type'].unique()   \n",
    "    H0 = 'Разница между группами статистически не значима.'\n",
    "    H1 = 'Разница между группами статистически значима.' \n",
    "    data = []\n",
    "    for line in lines:\n",
    "        data.append(dataset.loc[dataset['cell_type'] == line, column])\n",
    "        \n",
    "    __, p = kruskal(*data)\n",
    "    if p < alpha:\n",
    "        print('Нулевая гипотеза отвергнута. {}'.format(H1))\n",
    "    else:\n",
    "        print('Принята нулевая гипотеза: {}'.format(H0.format(line)))"
   ]
  },
  {
   "cell_type": "code",
   "execution_count": 35,
   "metadata": {},
   "outputs": [
    {
     "name": "stdout",
     "output_type": "stream",
     "text": [
      "Нулевая гипотеза отвергнута. Разница между группами статистически значима.\n"
     ]
    }
   ],
   "source": [
    "kruskal_test(sub_young, test_param)"
   ]
  },
  {
   "cell_type": "code",
   "execution_count": 36,
   "metadata": {},
   "outputs": [
    {
     "name": "stdout",
     "output_type": "stream",
     "text": [
      "Нулевая гипотеза отвергнута. Разница между группами статистически значима.\n"
     ]
    }
   ],
   "source": [
    "kruskal_test(sub_elder, test_param)"
   ]
  },
  {
   "cell_type": "markdown",
   "metadata": {},
   "source": [
    "Вывод:\n",
    "\n",
    "В обеих группах мтатистически занчимая разница между размерами клетки и ее типом."
   ]
  },
  {
   "cell_type": "code",
   "execution_count": 49,
   "metadata": {},
   "outputs": [],
   "source": [
    "# Расчет доверительных интервалов\n",
    "\n",
    "def compute_confidence_intervals(data, column_group, column_data, confidence_level=0.95, n_resamples=100):\n",
    "    groups = data[column_group].unique()\n",
    "\n",
    "    for group in groups:\n",
    "        group_data = data[data[column_group] == group][column_data].to_numpy()\n",
    "\n",
    "        if len(group_data) > 1:\n",
    "            confidence_interval = bootstrap((group_data,), np.median,\n",
    "                                            method='percentile',\n",
    "                                            confidence_level=confidence_level,\n",
    "                                            n_resamples=n_resamples).confidence_interval\n",
    "            \n",
    "            formatted_interval = f\"[{confidence_interval.low:.2f}, {confidence_interval.high:.2f}]\"\n",
    "            print(\n",
    "                f\"Тип клеток: {group}, {confidence_level*100:.0f}% доверительный интервал для медианы: {formatted_interval}\")\n",
    "        \n",
    "        else:\n",
    "            print(\n",
    "                f\"Тип клеток: {group}, не достаточно данных для расчета доверителеьного интервала.\")"
   ]
  },
  {
   "cell_type": "code",
   "execution_count": 51,
   "metadata": {},
   "outputs": [
    {
     "name": "stdout",
     "output_type": "stream",
     "text": [
      "Тип клеток: Stroma cells, 95% доверительный интервал для медианы: [238.00, 241.00]\n",
      "Тип клеток: Immune type 2, 95% доверительный интервал для медианы: [204.00, 209.76]\n",
      "Тип клеток: Immune type 1, 95% доверительный интервал для медианы: [222.47, 230.00]\n",
      "Тип клеток: Unclassified, 95% доверительный интервал для медианы: [213.00, 215.00]\n",
      "Тип клеток: Largest cells, 95% доверительный интервал для медианы: [993.98, 1482.82]\n",
      "Тип клеток: Blood cells, 95% доверительный интервал для медианы: [302.95, 320.00]\n",
      "Тип клеток: Bone cells, 95% доверительный интервал для медианы: [268.00, 279.52]\n",
      "Тип клеток: Vasculature, 95% доверительный интервал для медианы: [175.71, 242.05]\n"
     ]
    }
   ],
   "source": [
    "compute_confidence_intervals(sub_young, 'cell_type', 'area_of_cell')"
   ]
  },
  {
   "cell_type": "markdown",
   "metadata": {},
   "source": [
    "В выборке с молодыми пациентами доверительный интервал клеток Vasculature шире и пересекается с несколькими другими типами клеток. Остальные интервале не пересекаются между собой. Размеры клеток Largest cells в несколько раз отличаются от остальных и имеются самы большой доверительный интервал."
   ]
  },
  {
   "cell_type": "code",
   "execution_count": 52,
   "metadata": {},
   "outputs": [
    {
     "name": "stdout",
     "output_type": "stream",
     "text": [
      "Тип клеток: Stroma cells, 95% доверительный интервал для медианы: [227.00, 229.00]\n",
      "Тип клеток: Unclassified, 95% доверительный интервал для медианы: [209.00, 213.00]\n",
      "Тип клеток: Immune type 2, 95% доверительный интервал для медианы: [216.00, 222.00]\n",
      "Тип клеток: Blood cells, 95% доверительный интервал для медианы: [288.00, 318.05]\n",
      "Тип клеток: Bone cells, 95% доверительный интервал для медианы: [270.00, 317.00]\n",
      "Тип клеток: Largest cells, 95% доверительный интервал для медианы: [248.47, 274.10]\n",
      "Тип клеток: Immune type 1, 95% доверительный интервал для медианы: [228.47, 242.52]\n",
      "Тип клеток: Vasculature, 95% доверительный интервал для медианы: [183.47, 228.00]\n"
     ]
    }
   ],
   "source": [
    "compute_confidence_intervals(sub_elder, 'cell_type', 'area_of_cell')"
   ]
  },
  {
   "cell_type": "markdown",
   "metadata": {},
   "source": [
    "В выборке с возрастными пациентами доверительный интервал клеток Vasculature шире и пересекается с несколькими другими типами клеток. Остальные интервале не пересекаются между собой. Largest cells не выделяются по сравнению с молодоц группой."
   ]
  },
  {
   "cell_type": "markdown",
   "metadata": {},
   "source": [
    "### Задание 1б\n",
    "\n",
    "Есть ли стат-значимость между типом клетки и экспрессией иммунных маркеров (immune_marker_1, immune_marker_2), добавьте hue по возрастным группам."
   ]
  },
  {
   "cell_type": "code",
   "execution_count": 183,
   "metadata": {},
   "outputs": [
    {
     "data": {
      "image/png": "[encoded data removed]",
      "text/plain": [
       "<Figure size 640x480 with 1 Axes>"
      ]
     },
     "metadata": {},
     "output_type": "display_data"
    }
   ],
   "source": [
    "sns.boxplot(\n",
    "    data= data1,\n",
    "    x= 'cell_type',\n",
    "    y= 'immune_marker_1',\n",
    "    hue= 'age_group',\n",
    "    showfliers= False\n",
    ")\n",
    "\n",
    "plt.title('Стат значимость между типом клетки и экспрессией иммунных маркеров 1 и возрастной группой')\n",
    "plt.xlabel('Тип клетки')\n",
    "plt.ylabel('Экспрессия иммунного маркера 1')\n",
    "plt.legend(title='Возрастная группа')\n",
    "plt.xticks(rotation=90)\n",
    "plt.tight_layout()\n",
    "plt.show()"
   ]
  },
  {
   "cell_type": "markdown",
   "metadata": {},
   "source": [
    "Костные клетки, клетки иммунного типа 1 и vasculature в среднем имеют большую укспрессию имменного маркера 1. У пожилых тенденция прослеживается сильнее."
   ]
  },
  {
   "cell_type": "code",
   "execution_count": 184,
   "metadata": {},
   "outputs": [
    {
     "data": {
      "image/png": "[encoded data removed]",
      "text/plain": [
       "<Figure size 640x480 with 1 Axes>"
      ]
     },
     "metadata": {},
     "output_type": "display_data"
    }
   ],
   "source": [
    "sns.boxplot(\n",
    "    data= data1,\n",
    "    x= 'cell_type',\n",
    "    y= 'immune_marker_2',\n",
    "    hue= 'age_group',\n",
    "    showfliers= False\n",
    ")\n",
    "\n",
    "plt.title('Стат значимость между типом клетки и экспрессией иммунных маркеров 2 и возрастной группой')\n",
    "plt.xlabel('Тип клетки')\n",
    "plt.ylabel('Экспрессия иммунного маркера 2')\n",
    "plt.legend(title='Возрастная группа')\n",
    "plt.xticks(rotation=90)\n",
    "plt.tight_layout()\n",
    "plt.show()"
   ]
  },
  {
   "cell_type": "markdown",
   "metadata": {},
   "source": [
    "Кровяные и костные клетки в среднем имеют высокую экспрессию имменного маркера 2 в обеих возрастных группах."
   ]
  },
  {
   "cell_type": "code",
   "execution_count": 185,
   "metadata": {},
   "outputs": [],
   "source": [
    "# Создадим сабсеты для каждой возрастной группы и иммунного маркера\n",
    "\n",
    "young_marker_1 = data1[data1['age_group'] == 0][['immune_marker_1', 'cell_type']]\n",
    "young_marker_2 = data1[data1['age_group'] == 0][['immune_marker_2', 'cell_type']]\n",
    "elder_marker_1 = data1[data1['age_group'] == 1][['immune_marker_1', 'cell_type']]\n",
    "elder_marker_2 = data1[data1['age_group'] == 1][['immune_marker_2', 'cell_type']]"
   ]
  },
  {
   "cell_type": "code",
   "execution_count": 187,
   "metadata": {},
   "outputs": [
    {
     "name": "stdout",
     "output_type": "stream",
     "text": [
      "Нулевая гипотеза отвергнута. Распределение Stroma cells отлично от нормального.\n",
      "Нулевая гипотеза отвергнута. Распределение Immune type 2 отлично от нормального.\n",
      "Нулевая гипотеза отвергнута. Распределение Immune type 1 отлично от нормального.\n",
      "Нулевая гипотеза отвергнута. Распределение Unclassified отлично от нормального.\n",
      "Нулевая гипотеза отвергнута. Распределение Largest cells отлично от нормального.\n",
      "Нулевая гипотеза отвергнута. Распределение Blood cells отлично от нормального.\n",
      "Нулевая гипотеза отвергнута. Распределение Bone cells отлично от нормального.\n",
      "Нулевая гипотеза отвергнута. Распределение Vasculature отлично от нормального.\n"
     ]
    },
    {
     "name": "stderr",
     "output_type": "stream",
     "text": [
      "C:\\Users\\GrafGAD\\AppData\\Roaming\\Python\\Python311\\site-packages\\scipy\\stats\\_morestats.py:1882: UserWarning: p-value may not be accurate for N > 5000.\n",
      "  warnings.warn(\"p-value may not be accurate for N > 5000.\")\n"
     ]
    }
   ],
   "source": [
    "normality_test(young_marker_1, 'immune_marker_1')"
   ]
  },
  {
   "cell_type": "code",
   "execution_count": 189,
   "metadata": {},
   "outputs": [
    {
     "name": "stdout",
     "output_type": "stream",
     "text": [
      "Нулевая гипотеза отвергнута. Распределение Stroma cells отлично от нормального.\n",
      "Нулевая гипотеза отвергнута. Распределение Immune type 2 отлично от нормального.\n",
      "Нулевая гипотеза отвергнута. Распределение Immune type 1 отлично от нормального.\n",
      "Нулевая гипотеза отвергнута. Распределение Unclassified отлично от нормального.\n",
      "Нулевая гипотеза отвергнута. Распределение Largest cells отлично от нормального.\n",
      "Нулевая гипотеза отвергнута. Распределение Blood cells отлично от нормального.\n",
      "Нулевая гипотеза отвергнута. Распределение Bone cells отлично от нормального.\n",
      "Нулевая гипотеза отвергнута. Распределение Vasculature отлично от нормального.\n"
     ]
    },
    {
     "name": "stderr",
     "output_type": "stream",
     "text": [
      "C:\\Users\\GrafGAD\\AppData\\Roaming\\Python\\Python311\\site-packages\\scipy\\stats\\_morestats.py:1882: UserWarning: p-value may not be accurate for N > 5000.\n",
      "  warnings.warn(\"p-value may not be accurate for N > 5000.\")\n"
     ]
    }
   ],
   "source": [
    "normality_test(young_marker_2, 'immune_marker_2')"
   ]
  },
  {
   "cell_type": "code",
   "execution_count": 190,
   "metadata": {},
   "outputs": [
    {
     "name": "stdout",
     "output_type": "stream",
     "text": [
      "Нулевая гипотеза отвергнута. Распределение Stroma cells отлично от нормального.\n",
      "Нулевая гипотеза отвергнута. Распределение Unclassified отлично от нормального.\n",
      "Нулевая гипотеза отвергнута. Распределение Immune type 2 отлично от нормального.\n",
      "Нулевая гипотеза отвергнута. Распределение Blood cells отлично от нормального.\n",
      "Принята нулевая гипотеза: Распределение Bone cells нормальное\n",
      "Нулевая гипотеза отвергнута. Распределение Largest cells отлично от нормального.\n",
      "Нулевая гипотеза отвергнута. Распределение Immune type 1 отлично от нормального.\n",
      "Принята нулевая гипотеза: Распределение Vasculature нормальное\n"
     ]
    },
    {
     "name": "stderr",
     "output_type": "stream",
     "text": [
      "C:\\Users\\GrafGAD\\AppData\\Roaming\\Python\\Python311\\site-packages\\scipy\\stats\\_morestats.py:1882: UserWarning: p-value may not be accurate for N > 5000.\n",
      "  warnings.warn(\"p-value may not be accurate for N > 5000.\")\n"
     ]
    }
   ],
   "source": [
    "normality_test(elder_marker_1, 'immune_marker_1')"
   ]
  },
  {
   "cell_type": "code",
   "execution_count": 191,
   "metadata": {},
   "outputs": [
    {
     "name": "stdout",
     "output_type": "stream",
     "text": [
      "Нулевая гипотеза отвергнута. Распределение Stroma cells отлично от нормального.\n",
      "Нулевая гипотеза отвергнута. Распределение Unclassified отлично от нормального.\n",
      "Нулевая гипотеза отвергнута. Распределение Immune type 2 отлично от нормального.\n",
      "Нулевая гипотеза отвергнута. Распределение Blood cells отлично от нормального.\n",
      "Нулевая гипотеза отвергнута. Распределение Bone cells отлично от нормального.\n",
      "Нулевая гипотеза отвергнута. Распределение Largest cells отлично от нормального.\n",
      "Нулевая гипотеза отвергнута. Распределение Immune type 1 отлично от нормального.\n",
      "Нулевая гипотеза отвергнута. Распределение Vasculature отлично от нормального.\n"
     ]
    },
    {
     "name": "stderr",
     "output_type": "stream",
     "text": [
      "C:\\Users\\GrafGAD\\AppData\\Roaming\\Python\\Python311\\site-packages\\scipy\\stats\\_morestats.py:1882: UserWarning: p-value may not be accurate for N > 5000.\n",
      "  warnings.warn(\"p-value may not be accurate for N > 5000.\")\n"
     ]
    }
   ],
   "source": [
    "normality_test(elder_marker_2, 'immune_marker_2')"
   ]
  },
  {
   "cell_type": "markdown",
   "metadata": {},
   "source": [
    "Распределение имменного марекра 1 в Vasculature и Bone cells у возрастных пациентов нормальное.\n",
    "\n",
    "Все остальные распределения ненормальные."
   ]
  },
  {
   "cell_type": "code",
   "execution_count": 193,
   "metadata": {},
   "outputs": [
    {
     "name": "stdout",
     "output_type": "stream",
     "text": [
      "Нулевая гипотеза отвергнута. Распределение отлично от гомогенного.\n",
      "Нулевая гипотеза отвергнута. Распределение отлично от гомогенного.\n",
      "Нулевая гипотеза отвергнута. Распределение отлично от гомогенного.\n",
      "Нулевая гипотеза отвергнута. Распределение отлично от гомогенного.\n"
     ]
    }
   ],
   "source": [
    "# Проверка гомогенности дисперсий\n",
    "\n",
    "homogeneity_test(young_marker_1, 'immune_marker_1')\n",
    "homogeneity_test(young_marker_2, 'immune_marker_2')\n",
    "homogeneity_test(elder_marker_1, 'immune_marker_1')\n",
    "homogeneity_test(elder_marker_2, 'immune_marker_2')\n"
   ]
  },
  {
   "cell_type": "markdown",
   "metadata": {},
   "source": [
    "Во всех выборках данные распределены негомогенно."
   ]
  },
  {
   "cell_type": "code",
   "execution_count": 194,
   "metadata": {},
   "outputs": [
    {
     "name": "stdout",
     "output_type": "stream",
     "text": [
      "Размер молодой выборки с иммунным маркером 1: (87644, 2)\n",
      "Размер молодой выборки с иммунным маркером 2: (38829, 2)\n",
      "Размер возрастной выборки с иммунным маркером 1: (87644, 2)\n",
      "Размер возрастной выборки с иммунным маркером 2: (38829, 2)\n"
     ]
    }
   ],
   "source": [
    "# Размеры выборок\n",
    "\n",
    "print('Размер молодой выборки с иммунным маркером 1: {}'.format(sub_young.shape))\n",
    "print('Размер молодой выборки с иммунным маркером 2: {}'.format(sub_elder.shape))\n",
    "print('Размер возрастной выборки с иммунным маркером 1: {}'.format(sub_young.shape))\n",
    "print('Размер возрастной выборки с иммунным маркером 2: {}'.format(sub_elder.shape))\n"
   ]
  },
  {
   "cell_type": "markdown",
   "metadata": {},
   "source": [
    "##### Выводы:\n",
    "\n",
    "Данные распределены ненормально и негомогенно.\n",
    "\n",
    "Выборки не связаны между собой по возрасту, но связаны по маркерам - оба маркера взяты у одного и тогоже пациента.\n",
    "\n",
    "Размер выборки достаточный (молодые - 87644 и возрастные - 38829)\n",
    "\n",
    "Имеются выбросы.\n",
    "\n",
    "Таким образом, нужен непараметрический теста, малочувствительный к выбросам. Тест Краскула-Уолиса."
   ]
  },
  {
   "cell_type": "code",
   "execution_count": 195,
   "metadata": {},
   "outputs": [
    {
     "name": "stdout",
     "output_type": "stream",
     "text": [
      "Нулевая гипотеза отвергнута. Разница между группами статистически значима.\n",
      "Нулевая гипотеза отвергнута. Разница между группами статистически значима.\n",
      "Нулевая гипотеза отвергнута. Разница между группами статистически значима.\n",
      "Нулевая гипотеза отвергнута. Разница между группами статистически значима.\n"
     ]
    }
   ],
   "source": [
    "kruskal_test(young_marker_1, 'immune_marker_1')\n",
    "kruskal_test(young_marker_2, 'immune_marker_2')\n",
    "kruskal_test(elder_marker_1, 'immune_marker_1')\n",
    "kruskal_test(elder_marker_2, 'immune_marker_2')"
   ]
  },
  {
   "cell_type": "markdown",
   "metadata": {},
   "source": [
    "compute_confidence_intervals()"
   ]
  }
 ],
 "metadata": {
  "kernelspec": {
   "display_name": "Python 3",
   "language": "python",
   "name": "python3"
  },
  "language_info": {
   "codemirror_mode": {
    "name": "ipython",
    "version": 3
   },
   "file_extension": ".py",
   "mimetype": "text/x-python",
   "name": "python",
   "nbconvert_exporter": "python",
   "pygments_lexer": "ipython3",
   "version": "3.11.7"
  }
 },
 "nbformat": 4,
 "nbformat_minor": 2
}
